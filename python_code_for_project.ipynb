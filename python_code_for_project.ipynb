{
  "nbformat": 4,
  "nbformat_minor": 0,
  "metadata": {
    "colab": {
      "provenance": []
    },
    "kernelspec": {
      "name": "python3",
      "display_name": "Python 3"
    },
    "language_info": {
      "name": "python"
    }
  },
  "cells": [
    {
      "cell_type": "code",
      "source": [],
      "metadata": {
        "id": "xWAcbuJf4eUm"
      },
      "execution_count": null,
      "outputs": []
    },
    {
      "cell_type": "code",
      "source": [],
      "metadata": {
        "id": "PbIS6Iho4eXN"
      },
      "execution_count": null,
      "outputs": []
    },
    {
      "cell_type": "code",
      "source": [],
      "metadata": {
        "id": "60n6_o2c4eZb"
      },
      "execution_count": null,
      "outputs": []
    },
    {
      "cell_type": "code",
      "source": [
        "import pandas as pd\n",
        "import time\n",
        "from nba_api.stats.static import teams\n",
        "from nba_api.stats.endpoints import teamyearbyyearstats\n",
        "\n",
        "# Define seasons of interest (ending years)\n",
        "target_seasons = list(range(2000, 2025))\n",
        "nba_teams = teams.get_teams()\n",
        "data_rows = []\n",
        "\n",
        "print(\"📊 Pulling NBA team stats 2000–2024...\")\n",
        "\n",
        "for team in nba_teams:\n",
        "    team_id = team['id']\n",
        "    team_name = team['full_name']\n",
        "\n",
        "    try:\n",
        "        stats = teamyearbyyearstats.TeamYearByYearStats(team_id=team_id)\n",
        "        df = stats.get_data_frames()[0]\n",
        "\n",
        "        # Parse season end year from \"YEAR\" column (like \"2000-01\")\n",
        "        df['Season'] = df['YEAR'].str[-2:].astype(int) + 2000\n",
        "        # Special case for 1999-00 (which ends in 2000)\n",
        "        df.loc[df['YEAR'].str.startswith('1999'), 'Season'] = 2000\n",
        "\n",
        "        # Filter for our target seasons\n",
        "        df = df[df['Season'].isin(target_seasons)]\n",
        "\n",
        "        for _, row in df.iterrows():\n",
        "            gp = row['GP']\n",
        "            fg3a = row['FG3A']\n",
        "            fg3m = row['FG3M']\n",
        "\n",
        "            data_rows.append({\n",
        "                'TeamName': team_name,\n",
        "                'Season': row['Season'],\n",
        "                'GP': gp,\n",
        "                'WINS': row['WINS'],\n",
        "                'LOSSES': row['LOSSES'],\n",
        "                'WinPCT': row['WIN_PCT'],\n",
        "                'FG3A_per_game': fg3a,\n",
        "                'FG3M_per_game': fg3m,\n",
        "                'FG3_PCT': row['FG3_PCT'],\n",
        "                'FG3A_total': round(fg3a * gp),\n",
        "                'FG3M_total': round(fg3m * gp)\n",
        "            })\n",
        "\n",
        "        print(f\"✓ {team_name}\")\n",
        "        time.sleep(0.8)\n",
        "\n",
        "    except Exception as e:\n",
        "        print(f\"✗ Failed for {team_name}: {e}\")\n",
        "\n",
        "# Save results\n",
        "df_final = pd.DataFrame(data_rows)\n",
        "if not df_final.empty:\n",
        "    df_final.to_csv(\"nba_3pt_win_data_2000_2024.csv\", index=False)\n",
        "    print(\"\\n✅ Final dataset saved: nba_3pt_win_data_2000_2024.csv\")\n",
        "else:\n",
        "    print(\"❌ Still no data — something deeper may be blocking access (e.g., network/firewall/API changes).\")\n"
      ],
      "metadata": {
        "colab": {
          "base_uri": "https://localhost:8080/"
        },
        "id": "dx5Cp6z44ecG",
        "outputId": "473a4e47-db5c-49a7-9725-5f64e5f32917"
      },
      "execution_count": null,
      "outputs": [
        {
          "output_type": "stream",
          "name": "stdout",
          "text": [
            "📊 Pulling NBA team stats 2000–2024...\n",
            "✓ Atlanta Hawks\n",
            "✓ Boston Celtics\n",
            "✓ Cleveland Cavaliers\n",
            "✓ New Orleans Pelicans\n",
            "✓ Chicago Bulls\n",
            "✓ Dallas Mavericks\n",
            "✓ Denver Nuggets\n",
            "✓ Golden State Warriors\n",
            "✓ Houston Rockets\n",
            "✓ Los Angeles Clippers\n",
            "✓ Los Angeles Lakers\n",
            "✓ Miami Heat\n",
            "✓ Milwaukee Bucks\n",
            "✓ Minnesota Timberwolves\n",
            "✓ Brooklyn Nets\n",
            "✓ New York Knicks\n",
            "✓ Orlando Magic\n",
            "✓ Indiana Pacers\n",
            "✓ Philadelphia 76ers\n",
            "✓ Phoenix Suns\n",
            "✓ Portland Trail Blazers\n",
            "✓ Sacramento Kings\n",
            "✓ San Antonio Spurs\n",
            "✓ Oklahoma City Thunder\n",
            "✓ Toronto Raptors\n",
            "✓ Utah Jazz\n",
            "✓ Memphis Grizzlies\n",
            "✓ Washington Wizards\n",
            "✓ Detroit Pistons\n",
            "✓ Charlotte Hornets\n",
            "\n",
            "✅ Final dataset saved: nba_3pt_win_data_2000_2024.csv\n"
          ]
        }
      ]
    },
    {
      "cell_type": "code",
      "source": [],
      "metadata": {
        "id": "JcvHO25oDuny"
      },
      "execution_count": null,
      "outputs": []
    },
    {
      "cell_type": "code",
      "source": [],
      "metadata": {
        "id": "2pWkM5944eez"
      },
      "execution_count": null,
      "outputs": []
    }
  ]
}